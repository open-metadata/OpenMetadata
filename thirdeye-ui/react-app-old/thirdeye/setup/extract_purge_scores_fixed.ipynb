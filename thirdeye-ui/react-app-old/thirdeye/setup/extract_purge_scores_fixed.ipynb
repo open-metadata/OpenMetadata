{
 "cells": [
  {
   "cell_type": "markdown",
   "metadata": {},
   "source": [
    "# Extract Table Purge Scores (Fixed)\n",
    "\n",
    "This notebook connects to the MySQL database and extracts purge score metrics from the `v_table_purge_scores` view."
   ]
  },
  {
   "cell_type": "code",
   "metadata": {
    "ExecuteTime": {
     "end_time": "2025-09-11T21:59:17.387230Z",
     "start_time": "2025-09-11T21:59:16.969498Z"
    }
   },
   "source": [
    "import pandas as pd\n",
    "import mysql.connector\n",
    "import warnings\n",
    "warnings.filterwarnings('ignore')"
   ],
   "outputs": [],
   "execution_count": 1
  },
  {
   "cell_type": "code",
   "metadata": {
    "ExecuteTime": {
     "end_time": "2025-09-11T21:59:18.185979Z",
     "start_time": "2025-09-11T21:59:18.168561Z"
    }
   },
   "source": [
    "# Database connection parameters\n",
    "DB_CONFIG = {\n",
    "    'host': 'localhost',\n",
    "    'user': 'thirdeye_user',\n",
    "    'password': 'password',\n",
    "    'database': 'thirdeye'\n",
    "}\n",
    "\n",
    "# Create direct MySQL connection\n",
    "connection = mysql.connector.connect(**DB_CONFIG)\n",
    "print(\"Database connection established\")"
   ],
   "outputs": [
    {
     "name": "stdout",
     "output_type": "stream",
     "text": [
      "Database connection established\n"
     ]
    }
   ],
   "execution_count": 2
  },
  {
   "cell_type": "code",
   "metadata": {
    "ExecuteTime": {
     "end_time": "2025-09-11T21:59:44.339427Z",
     "start_time": "2025-09-11T21:59:43.540940Z"
    }
   },
   "source": [
    "# SQL query to extract purge scores\n",
    "query = \"\"\"\n",
    "SELECT \n",
    "    size_score,\n",
    "    access_staleness_score,\n",
    "    usage_frequency_score,\n",
    "    refresh_waste_score,\n",
    "    user_engagement_score,\n",
    "    purge_score\n",
    "FROM v_table_purge_scores\n",
    "\"\"\"\n",
    "\n",
    "# Execute query and create DataFrame\n",
    "df = pd.read_sql(query, connection)\n",
    "\n",
    "print(f\"Extracted {len(df)} records\")\n",
    "print(f\"DataFrame shape: {df.shape}\")"
   ],
   "outputs": [
    {
     "name": "stdout",
     "output_type": "stream",
     "text": [
      "Extracted 161971 records\n",
      "DataFrame shape: (161971, 6)\n"
     ]
    }
   ],
   "execution_count": 5
  },
  {
   "cell_type": "code",
   "metadata": {
    "ExecuteTime": {
     "end_time": "2025-09-11T21:59:47.689411Z",
     "start_time": "2025-09-11T21:59:47.679072Z"
    }
   },
   "source": [
    "# Display basic info about the DataFrame\n",
    "print(\"DataFrame Info:\")\n",
    "print(df.info())\n",
    "print(\"\\nFirst 5 rows:\")\n",
    "df.head()"
   ],
   "outputs": [
    {
     "name": "stdout",
     "output_type": "stream",
     "text": [
      "DataFrame Info:\n",
      "<class 'pandas.core.frame.DataFrame'>\n",
      "RangeIndex: 161971 entries, 0 to 161970\n",
      "Data columns (total 6 columns):\n",
      " #   Column                  Non-Null Count   Dtype  \n",
      "---  ------                  --------------   -----  \n",
      " 0   size_score              161971 non-null  int64  \n",
      " 1   access_staleness_score  161971 non-null  int64  \n",
      " 2   usage_frequency_score   161971 non-null  int64  \n",
      " 3   refresh_waste_score     161971 non-null  int64  \n",
      " 4   user_engagement_score   161971 non-null  int64  \n",
      " 5   purge_score             161971 non-null  float64\n",
      "dtypes: float64(1), int64(5)\n",
      "memory usage: 7.4 MB\n",
      "None\n",
      "\n",
      "First 5 rows:\n"
     ]
    },
    {
     "data": {
      "text/plain": [
       "   size_score  access_staleness_score  usage_frequency_score  \\\n",
       "0          10                       4                      7   \n",
       "1          10                       1                     10   \n",
       "2          10                       1                     10   \n",
       "3          10                       1                     10   \n",
       "4          10                       1                     10   \n",
       "\n",
       "   refresh_waste_score  user_engagement_score  purge_score  \n",
       "0                    7                      8          7.2  \n",
       "1                    7                     10          7.0  \n",
       "2                    7                     10          7.0  \n",
       "3                    7                     10          7.0  \n",
       "4                    7                     10          7.0  "
      ],
      "text/html": [
       "<div>\n",
       "<style scoped>\n",
       "    .dataframe tbody tr th:only-of-type {\n",
       "        vertical-align: middle;\n",
       "    }\n",
       "\n",
       "    .dataframe tbody tr th {\n",
       "        vertical-align: top;\n",
       "    }\n",
       "\n",
       "    .dataframe thead th {\n",
       "        text-align: right;\n",
       "    }\n",
       "</style>\n",
       "<table border=\"1\" class=\"dataframe\">\n",
       "  <thead>\n",
       "    <tr style=\"text-align: right;\">\n",
       "      <th></th>\n",
       "      <th>size_score</th>\n",
       "      <th>access_staleness_score</th>\n",
       "      <th>usage_frequency_score</th>\n",
       "      <th>refresh_waste_score</th>\n",
       "      <th>user_engagement_score</th>\n",
       "      <th>purge_score</th>\n",
       "    </tr>\n",
       "  </thead>\n",
       "  <tbody>\n",
       "    <tr>\n",
       "      <th>0</th>\n",
       "      <td>10</td>\n",
       "      <td>4</td>\n",
       "      <td>7</td>\n",
       "      <td>7</td>\n",
       "      <td>8</td>\n",
       "      <td>7.2</td>\n",
       "    </tr>\n",
       "    <tr>\n",
       "      <th>1</th>\n",
       "      <td>10</td>\n",
       "      <td>1</td>\n",
       "      <td>10</td>\n",
       "      <td>7</td>\n",
       "      <td>10</td>\n",
       "      <td>7.0</td>\n",
       "    </tr>\n",
       "    <tr>\n",
       "      <th>2</th>\n",
       "      <td>10</td>\n",
       "      <td>1</td>\n",
       "      <td>10</td>\n",
       "      <td>7</td>\n",
       "      <td>10</td>\n",
       "      <td>7.0</td>\n",
       "    </tr>\n",
       "    <tr>\n",
       "      <th>3</th>\n",
       "      <td>10</td>\n",
       "      <td>1</td>\n",
       "      <td>10</td>\n",
       "      <td>7</td>\n",
       "      <td>10</td>\n",
       "      <td>7.0</td>\n",
       "    </tr>\n",
       "    <tr>\n",
       "      <th>4</th>\n",
       "      <td>10</td>\n",
       "      <td>1</td>\n",
       "      <td>10</td>\n",
       "      <td>7</td>\n",
       "      <td>10</td>\n",
       "      <td>7.0</td>\n",
       "    </tr>\n",
       "  </tbody>\n",
       "</table>\n",
       "</div>"
      ]
     },
     "execution_count": 6,
     "metadata": {},
     "output_type": "execute_result"
    }
   ],
   "execution_count": 6
  },
  {
   "cell_type": "code",
   "metadata": {
    "ExecuteTime": {
     "end_time": "2025-09-11T22:00:12.092186Z",
     "start_time": "2025-09-11T22:00:12.063758Z"
    }
   },
   "source": [
    "# Display summary statistics\n",
    "print(\"Summary Statistics:\")\n",
    "df.describe()"
   ],
   "outputs": [
    {
     "name": "stdout",
     "output_type": "stream",
     "text": [
      "Summary Statistics:\n"
     ]
    },
    {
     "data": {
      "text/plain": [
       "          size_score  access_staleness_score  usage_frequency_score  \\\n",
       "count  161971.000000           161971.000000          161971.000000   \n",
       "mean        2.121942                1.585271               9.119639   \n",
       "std         0.993461                1.188815               1.925265   \n",
       "min         1.000000                1.000000               1.000000   \n",
       "25%         2.000000                1.000000              10.000000   \n",
       "50%         2.000000                1.000000              10.000000   \n",
       "75%         2.000000                1.000000              10.000000   \n",
       "max        10.000000                4.000000              10.000000   \n",
       "\n",
       "       refresh_waste_score  user_engagement_score    purge_score  \n",
       "count        161971.000000          161971.000000  161971.000000  \n",
       "mean              6.850912               9.505609       4.219379  \n",
       "std               0.757714               1.063942       0.375665  \n",
       "min               3.000000               1.000000       2.200000  \n",
       "25%               7.000000              10.000000       3.900000  \n",
       "50%               7.000000              10.000000       4.200000  \n",
       "75%               7.000000              10.000000       4.200000  \n",
       "max               7.000000              10.000000       7.200000  "
      ],
      "text/html": [
       "<div>\n",
       "<style scoped>\n",
       "    .dataframe tbody tr th:only-of-type {\n",
       "        vertical-align: middle;\n",
       "    }\n",
       "\n",
       "    .dataframe tbody tr th {\n",
       "        vertical-align: top;\n",
       "    }\n",
       "\n",
       "    .dataframe thead th {\n",
       "        text-align: right;\n",
       "    }\n",
       "</style>\n",
       "<table border=\"1\" class=\"dataframe\">\n",
       "  <thead>\n",
       "    <tr style=\"text-align: right;\">\n",
       "      <th></th>\n",
       "      <th>size_score</th>\n",
       "      <th>access_staleness_score</th>\n",
       "      <th>usage_frequency_score</th>\n",
       "      <th>refresh_waste_score</th>\n",
       "      <th>user_engagement_score</th>\n",
       "      <th>purge_score</th>\n",
       "    </tr>\n",
       "  </thead>\n",
       "  <tbody>\n",
       "    <tr>\n",
       "      <th>count</th>\n",
       "      <td>161971.000000</td>\n",
       "      <td>161971.000000</td>\n",
       "      <td>161971.000000</td>\n",
       "      <td>161971.000000</td>\n",
       "      <td>161971.000000</td>\n",
       "      <td>161971.000000</td>\n",
       "    </tr>\n",
       "    <tr>\n",
       "      <th>mean</th>\n",
       "      <td>2.121942</td>\n",
       "      <td>1.585271</td>\n",
       "      <td>9.119639</td>\n",
       "      <td>6.850912</td>\n",
       "      <td>9.505609</td>\n",
       "      <td>4.219379</td>\n",
       "    </tr>\n",
       "    <tr>\n",
       "      <th>std</th>\n",
       "      <td>0.993461</td>\n",
       "      <td>1.188815</td>\n",
       "      <td>1.925265</td>\n",
       "      <td>0.757714</td>\n",
       "      <td>1.063942</td>\n",
       "      <td>0.375665</td>\n",
       "    </tr>\n",
       "    <tr>\n",
       "      <th>min</th>\n",
       "      <td>1.000000</td>\n",
       "      <td>1.000000</td>\n",
       "      <td>1.000000</td>\n",
       "      <td>3.000000</td>\n",
       "      <td>1.000000</td>\n",
       "      <td>2.200000</td>\n",
       "    </tr>\n",
       "    <tr>\n",
       "      <th>25%</th>\n",
       "      <td>2.000000</td>\n",
       "      <td>1.000000</td>\n",
       "      <td>10.000000</td>\n",
       "      <td>7.000000</td>\n",
       "      <td>10.000000</td>\n",
       "      <td>3.900000</td>\n",
       "    </tr>\n",
       "    <tr>\n",
       "      <th>50%</th>\n",
       "      <td>2.000000</td>\n",
       "      <td>1.000000</td>\n",
       "      <td>10.000000</td>\n",
       "      <td>7.000000</td>\n",
       "      <td>10.000000</td>\n",
       "      <td>4.200000</td>\n",
       "    </tr>\n",
       "    <tr>\n",
       "      <th>75%</th>\n",
       "      <td>2.000000</td>\n",
       "      <td>1.000000</td>\n",
       "      <td>10.000000</td>\n",
       "      <td>7.000000</td>\n",
       "      <td>10.000000</td>\n",
       "      <td>4.200000</td>\n",
       "    </tr>\n",
       "    <tr>\n",
       "      <th>max</th>\n",
       "      <td>10.000000</td>\n",
       "      <td>4.000000</td>\n",
       "      <td>10.000000</td>\n",
       "      <td>7.000000</td>\n",
       "      <td>10.000000</td>\n",
       "      <td>7.200000</td>\n",
       "    </tr>\n",
       "  </tbody>\n",
       "</table>\n",
       "</div>"
      ]
     },
     "execution_count": 7,
     "metadata": {},
     "output_type": "execute_result"
    }
   ],
   "execution_count": 7
  },
  {
   "cell_type": "code",
   "execution_count": null,
   "metadata": {},
   "outputs": [],
   "source": [
    "# Check for null values\n",
    "print(\"Null values per column:\")\n",
    "print(df.isnull().sum())\n",
    "print(f\"\\nTotal null values: {df.isnull().sum().sum()}\")"
   ]
  },
  {
   "cell_type": "code",
   "execution_count": null,
   "metadata": {},
   "outputs": [],
   "source": [
    "# Close the database connection\n",
    "connection.close()\n",
    "print(\"Database connection closed\")"
   ]
  }
 ],
 "metadata": {
  "kernelspec": {
   "display_name": "Python 3",
   "language": "python",
   "name": "python3"
  },
  "language_info": {
   "codemirror_mode": {
    "name": "ipython",
    "version": 3
   },
   "file_extension": ".py",
   "mimetype": "text/x-python",
   "name": "python",
   "nbconvert_exporter": "python",
   "pygments_lexer": "ipython3",
   "version": "3.10.0"
  }
 },
 "nbformat": 4,
 "nbformat_minor": 4
}
